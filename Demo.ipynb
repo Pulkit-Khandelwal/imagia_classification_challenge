{
 "cells": [
  {
   "cell_type": "markdown",
   "metadata": {},
   "source": [
    "# Dog breed classification challenge"
   ]
  },
  {
   "cell_type": "markdown",
   "metadata": {},
   "source": [
    "## I have used three types of network definitions:"
   ]
  },
  {
   "cell_type": "markdown",
   "metadata": {},
   "source": [
    "### 1. Pre-trained models:\n",
    "###    Resnet50\n",
    "###    InceptionNet\n",
    "###    Xception\n",
    "###    Vgg16\n",
    "### 2. Transfer learning and Fine Tuning on Xception Net\n",
    "### 3. Make your own ConvNet model from scratch"
   ]
  },
  {
   "cell_type": "markdown",
   "metadata": {},
   "source": [
    "## Transfer learning helps when we want to make weights initialization from an already trained network.\n",
    "## Fine Tuning helps to train specific layers of the networks.\n",
    "## We should leverage these two concepts when we have a very large dataset and when we can find some network weights which have been previously trained on a similar dataset"
   ]
  },
  {
   "cell_type": "markdown",
   "metadata": {},
   "source": [
    "## Setup the Data"
   ]
  },
  {
   "cell_type": "code",
   "execution_count": 1,
   "metadata": {
    "collapsed": false
   },
   "outputs": [
    {
     "name": "stderr",
     "output_type": "stream",
     "text": [
      "Using TensorFlow backend.\n"
     ]
    },
    {
     "name": "stdout",
     "output_type": "stream",
     "text": [
      "TRAINING DATA PREP\n",
      "Loading the mat files\n",
      "0\n",
      "100\n",
      "Cropping, resizing and saving as a numpy array\n",
      "0\n",
      "100\n",
      "Conversion to one-hot encoding\n",
      "TEST DATA PREP\n",
      "Loading the mat files\n",
      "0\n",
      "100\n",
      "Cropping, resizing and saving as a numpy array\n",
      "0\n",
      "100\n",
      "Conversion to one-hot encoding\n"
     ]
    }
   ],
   "source": [
    "from classifier.load_data import *\n",
    "from classifier.models import Models\n",
    "from classifier.train import *\n",
    "\n",
    "print('TRAINING DATA PREP')\n",
    "filename_list, labels_list, annotation_list = load_matfile('data/lists/train_list.mat')\n",
    "data_frame = create_dataframe(filename_list[:200], labels_list[:200], annotation_list[:200], 'data/annotation/')\n",
    "pickle_file(data_frame=data_frame, file_to_save='train_data.pickle')\n",
    "\n",
    "x_train = to_numpy_array(data_frame[:200], image_shape=(224, 224), data_path='data/images/')\n",
    "y_train = labels_to_logical(labels_list[:200])\n",
    "\n",
    "print('TEST DATA PREP')\n",
    "filename_list, labels_list, annotation_list = load_matfile('data/lists/test_list.mat')\n",
    "data_frame = create_dataframe(filename_list[:200], labels_list[:200], annotation_list[:200], 'data/annotation/')\n",
    "pickle_file(data_frame=data_frame, file_to_save='test_data.pickle')\n",
    "\n",
    "x_test = to_numpy_array(data_frame[:200], image_shape=(224, 224), data_path='data/images/')\n",
    "y_test = labels_to_logical(labels_list[:200])\n",
    "\n",
    "#Load the dictionary mappings for the labels\n",
    "with open(r\"data/labels_dict.pickle\", \"rb\") as input_file:\n",
    "    dictionary_labels_classes = pickle.load(input_file)\n"
   ]
  },
  {
   "cell_type": "markdown",
   "metadata": {},
   "source": [
    "## Train and Test XceptionNet for Transfer Learning and Fine Tuning"
   ]
  },
  {
   "cell_type": "code",
   "execution_count": null,
   "metadata": {
    "collapsed": false
   },
   "outputs": [],
   "source": [
    "print('COMPILE and TRAIN MODEL')\n",
    "model = Models()\n",
    "model = model.TransferFine(top_layers=True)\n",
    "history, model = train(model, x_train, y_train, split=0.8, early_stopping=True, epochs=5)\n",
    "\n",
    "print('Saving: Model Architecture and Weights')\n",
    "model.save('save_architecture.h5')\n",
    "model.save_weights('save_model_weights.h5')\n"
   ]
  },
  {
   "cell_type": "markdown",
   "metadata": {},
   "source": [
    "## Predict on some test images"
   ]
  },
  {
   "cell_type": "code",
   "execution_count": null,
   "metadata": {
    "collapsed": false
   },
   "outputs": [],
   "source": [
    "print('PREDICTING CLASSES')\n",
    "   \n",
    "classes = []\n",
    "class_dogs = []\n",
    "test = x_test[:10]\n",
    "for i in range(len(test)):\n",
    "    pred = np.argmax(model.predict(np.expand_dims(resize(test[i], (299, 299)), axis=0)))+1\n",
    "    classes.append(pred)\n",
    "    class_dogs.append(dictionary_labels_classes[pred])\n",
    "\n",
    "print('Predicted Labels')\n",
    "print(classes)\n",
    "print(class_dogs)\n",
    "\n",
    "print('True Labels')\n",
    "print(labels_list[:10])"
   ]
  },
  {
   "cell_type": "markdown",
   "metadata": {},
   "source": [
    "## Let us see some curves and a test image"
   ]
  },
  {
   "cell_type": "code",
   "execution_count": null,
   "metadata": {
    "collapsed": false
   },
   "outputs": [],
   "source": [
    "print('Let us see some training and validation curves')\n",
    "\n",
    "# list all data in history\n",
    "print(history.history.keys())\n",
    "\n",
    "# summarize history for accuracy\n",
    "plt.plot(history.history['acc'])\n",
    "plt.plot(history.history['val_acc'])\n",
    "plt.title('model accuracy')\n",
    "plt.ylabel('accuracy')\n",
    "plt.xlabel('epoch')\n",
    "plt.legend(['train', 'test'], loc='upper left')\n",
    "plt.show()\n",
    "\n",
    "# summarize history for loss\n",
    "plt.plot(history.history['loss'])\n",
    "plt.plot(history.history['val_loss'])\n",
    "plt.title('model loss')\n",
    "plt.ylabel('loss')\n",
    "plt.xlabel('epoch')\n",
    "plt.legend(['train', 'test'], loc='upper left')\n",
    "plt.show()\n",
    "\n",
    "#plot a test image\n",
    "io.imshow(x_test[0])\n",
    "plt.show()\n",
    "print('So, it was actually a', dictionary_labels_classes[labels_list[0]])"
   ]
  },
  {
   "cell_type": "markdown",
   "metadata": {},
   "source": [
    "## Test an image on ResNet50 pre-trained network"
   ]
  },
  {
   "cell_type": "code",
   "execution_count": 5,
   "metadata": {
    "collapsed": false
   },
   "outputs": [
    {
     "name": "stdout",
     "output_type": "stream",
     "text": [
      "Load and Test Model\n",
      "Predicted Label\n",
      "(u'nematode', 0.15411375)\n",
      "True Label\n",
      "(1, u'Chihuahua')\n"
     ]
    }
   ],
   "source": [
    "from keras.applications.vgg16 import preprocess_input, decode_predictions\n",
    "\n",
    "print('Load and Test Model')\n",
    "model = Models.PreTrained()\n",
    "model = model.resnet50()\n",
    "\n",
    "test_image = np.expand_dims(resize(x_test[20], (224, 224)), axis=0)\n",
    "preds_resnet = model.predict(test_image)\n",
    "_, imagenet_class_name, prob = decode_predictions(preds_resnet, top=1)[0][0]\n",
    "\n",
    "print('Predicted Label')\n",
    "print(imagenet_class_name, prob)\n",
    "\n",
    "print('True Label')\n",
    "print(labels_list[20], dictionary_labels_classes[labels_list[20]])\n"
   ]
  },
  {
   "cell_type": "markdown",
   "metadata": {},
   "source": [
    "## Test an image on Inception_V3 pre-trained network"
   ]
  },
  {
   "cell_type": "code",
   "execution_count": 9,
   "metadata": {
    "collapsed": false
   },
   "outputs": [
    {
     "name": "stdout",
     "output_type": "stream",
     "text": [
      "Load and Test Model\n",
      "(u'Chihuahua', 0.91658884)\n",
      "Predicted Label\n",
      "(u'Chihuahua', 0.91658884)\n",
      "True Label\n",
      "(1, u'Chihuahua')\n"
     ]
    }
   ],
   "source": [
    "from keras.applications.vgg16 import preprocess_input, decode_predictions\n",
    "\n",
    "print('Load and Test Model')\n",
    "model = Models.PreTrained()\n",
    "model = model.Inception_V3()\n",
    "\n",
    "test_image = np.expand_dims(resize(x_test[20], (299, 299)), axis=0)\n",
    "preds_inception = model.predict(test_image, batch_size=32)\n",
    "_, imagenet_class_name, prob = decode_predictions(preds_inception, top=1)[0][0]\n",
    "print(imagenet_class_name, prob)\n",
    "\n",
    "print('Predicted Label')\n",
    "print(imagenet_class_name, prob)\n",
    "\n",
    "print('True Label')\n",
    "print(labels_list[20], dictionary_labels_classes[labels_list[20]])"
   ]
  },
  {
   "cell_type": "markdown",
   "metadata": {},
   "source": [
    "### Thanks and let me know if you have any questions!"
   ]
  },
  {
   "cell_type": "code",
   "execution_count": null,
   "metadata": {
    "collapsed": true
   },
   "outputs": [],
   "source": []
  }
 ],
 "metadata": {
  "anaconda-cloud": {},
  "kernelspec": {
   "display_name": "Python [default]",
   "language": "python",
   "name": "python2"
  },
  "language_info": {
   "codemirror_mode": {
    "name": "ipython",
    "version": 2
   },
   "file_extension": ".py",
   "mimetype": "text/x-python",
   "name": "python",
   "nbconvert_exporter": "python",
   "pygments_lexer": "ipython2",
   "version": "2.7.12"
  }
 },
 "nbformat": 4,
 "nbformat_minor": 1
}

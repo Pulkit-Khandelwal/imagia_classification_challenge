{
 "cells": [
  {
   "cell_type": "markdown",
   "metadata": {},
   "source": [
    "# Dog breed classification challenge"
   ]
  },
  {
   "cell_type": "markdown",
   "metadata": {},
   "source": [
    "I have used three types of network definitions:\n",
    "   1. Pre-trained models:\n",
    "        Resnet50\n",
    "        InceptionNet\n",
    "        Xception\n",
    "        Vgg16\n",
    "    2. Transfer learning and Fine Tuning:\n",
    "        transfer_xception\n",
    "    3. Make your own ConvNet model from scratch"
   ]
  },
  {
   "cell_type": "markdown",
   "metadata": {},
   "source": [
    "## Transfer learning helps when we want to make weights initialization from an already trained network.\n",
    "## Fine Tuning helps to train specific layers of the networks.\n",
    "## We should leverage these two concepts when we have a very large dataset and when we can find some network weights which have been previously trained on a similar dataset"
   ]
  },
  {
   "cell_type": "code",
   "execution_count": null,
   "metadata": {
    "collapsed": true
   },
   "outputs": [],
   "source": []
  }
 ],
 "metadata": {
  "anaconda-cloud": {},
  "kernelspec": {
   "display_name": "Python [default]",
   "language": "python",
   "name": "python2"
  },
  "language_info": {
   "codemirror_mode": {
    "name": "ipython",
    "version": 2
   },
   "file_extension": ".py",
   "mimetype": "text/x-python",
   "name": "python",
   "nbconvert_exporter": "python",
   "pygments_lexer": "ipython2",
   "version": "2.7.12"
  }
 },
 "nbformat": 4,
 "nbformat_minor": 1
}
